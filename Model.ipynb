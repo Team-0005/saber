{
 "cells": [
  {
   "cell_type": "code",
   "execution_count": 75,
   "metadata": {
    "id": "ZHaTcpy2D9cO"
   },
   "outputs": [],
   "source": [
    "import numpy as np\n",
    "import pandas as pd\n",
    "from sklearn.model_selection import learning_curve\n",
    "import matplotlib.pyplot as plt"
   ]
  },
  {
   "cell_type": "markdown",
   "metadata": {
    "id": "vSF_sq1ZmW3Z"
   },
   "source": [
    "Read dataset"
   ]
  },
  {
   "cell_type": "code",
   "execution_count": 76,
   "metadata": {
    "id": "6Kr2B5vNGerd"
   },
   "outputs": [],
   "source": [
    "data= pd.read_excel('dt_1 (1).xlsx')"
   ]
  },
  {
   "cell_type": "markdown",
   "metadata": {
    "id": "k1Ca3hjNmcF8"
   },
   "source": [
    "Data Preprocessing"
   ]
  },
  {
   "cell_type": "code",
   "execution_count": 77,
   "metadata": {
    "id": "gwTaiFSemVxx"
   },
   "outputs": [],
   "source": [
    "df_feature = data.drop(\"الاضطراب\",axis=1)\n",
    "df_target = data[\"الاضطراب\"]\n",
    "X = pd.get_dummies(df_feature,drop_first=True)\n",
    "y = pd.get_dummies(df_target)"
   ]
  },
  {
   "cell_type": "markdown",
   "metadata": {
    "id": "so3Y9FUImjYs"
   },
   "source": [
    "Split data"
   ]
  },
  {
   "cell_type": "code",
   "execution_count": 78,
   "metadata": {
    "id": "N8wbofGIKhny"
   },
   "outputs": [],
   "source": [
    "from sklearn.model_selection import train_test_split\n",
    "X_train, X_test, y_train, y_test = train_test_split(X, y, random_state=42, test_size = 0.3)"
   ]
  },
  {
   "cell_type": "markdown",
   "metadata": {
    "id": "BEfTDwGrmoZ-"
   },
   "source": [
    "implement using keras"
   ]
  },
  {
   "cell_type": "code",
   "execution_count": 79,
   "metadata": {
    "id": "Vm2Rx969iIl4"
   },
   "outputs": [],
   "source": [
    "import keras"
   ]
  },
  {
   "cell_type": "code",
   "execution_count": 80,
   "metadata": {
    "colab": {
     "base_uri": "https://localhost:8080/"
    },
    "id": "0I9Mq0nAioVe",
    "outputId": "b8698407-c32b-4231-cfd9-0a2f3fc94a13"
   },
   "outputs": [
    {
     "name": "stdout",
     "output_type": "stream",
     "text": [
      "35\n"
     ]
    }
   ],
   "source": [
    "input_shape = X_train.shape[1]\n",
    "print(input_shape)"
   ]
  },
  {
   "cell_type": "markdown",
   "metadata": {
    "id": "2EBd8ZvWnTBy"
   },
   "source": [
    "Build The model"
   ]
  },
  {
   "cell_type": "code",
   "execution_count": 81,
   "metadata": {
    "id": "8AAOT48liNse"
   },
   "outputs": [],
   "source": [
    "# Build The structure of Model\n",
    "model = keras.Sequential()\n",
    "# here we define 20 nodes with input shape 35 and activation function called relu\n",
    "model.add(keras.layers.Dense(20, input_shape=(input_shape,), activation='relu'))\n",
    "#then the output 3 node because we have multiclassifiaction (anxity/ desperation /OCD) \n",
    "#and the activation function called softmax\n",
    "model.add(keras.layers.Dense(3, activation='softmax'))"
   ]
  },
  {
   "cell_type": "code",
   "execution_count": 82,
   "metadata": {
    "colab": {
     "base_uri": "https://localhost:8080/"
    },
    "id": "jzfJn2VwjthT",
    "outputId": "4356f97a-7a77-40ad-f927-20a8de9365d7"
   },
   "outputs": [],
   "source": [
    "#compile the model\n",
    "optimizer = keras.optimizers.Adam(lr=0.5)\n",
    "model.compile(loss='categorical_crossentropy', optimizer='adam', metrics=['accuracy']) "
   ]
  },
  {
   "cell_type": "markdown",
   "metadata": {
    "id": "Peoll6KCpbWD"
   },
   "source": [
    "Train model"
   ]
  },
  {
   "cell_type": "code",
   "execution_count": 74,
   "metadata": {
    "colab": {
     "base_uri": "https://localhost:8080/",
     "height": 979
    },
    "id": "l-I4jUnTkCm9",
    "outputId": "27f78dbc-a272-4dc4-a601-d8b15c03ed25"
   },
   "outputs": [
    {
     "name": "stdout",
     "output_type": "stream",
     "text": [
      "Epoch 1/20\n",
      "1/7 [===>..........................] - ETA: 0s - loss: 1.1808 - accuracy: 0.4062WARNING:tensorflow:Callbacks method `on_train_batch_end` is slow compared to the batch time (batch time: 0.0000s vs `on_train_batch_end` time: 0.0015s). Check your callbacks.\n",
      "7/7 [==============================] - 0s 20ms/step - loss: 1.2371 - accuracy: 0.2817 - val_loss: 1.0997 - val_accuracy: 0.4565\n",
      "Epoch 2/20\n",
      "7/7 [==============================] - 0s 3ms/step - loss: 1.1176 - accuracy: 0.3474 - val_loss: 0.9926 - val_accuracy: 0.5543\n",
      "Epoch 3/20\n",
      "7/7 [==============================] - 0s 3ms/step - loss: 1.0123 - accuracy: 0.5164 - val_loss: 0.8985 - val_accuracy: 0.6413\n",
      "Epoch 4/20\n",
      "7/7 [==============================] - 0s 3ms/step - loss: 0.9193 - accuracy: 0.6056 - val_loss: 0.8138 - val_accuracy: 0.6739\n",
      "Epoch 5/20\n",
      "7/7 [==============================] - 0s 4ms/step - loss: 0.8357 - accuracy: 0.6291 - val_loss: 0.7366 - val_accuracy: 0.6848\n",
      "Epoch 6/20\n",
      "7/7 [==============================] - 0s 3ms/step - loss: 0.7597 - accuracy: 0.6432 - val_loss: 0.6654 - val_accuracy: 0.7065\n",
      "Epoch 7/20\n",
      "7/7 [==============================] - 0s 3ms/step - loss: 0.6909 - accuracy: 0.7277 - val_loss: 0.6038 - val_accuracy: 0.8370\n",
      "Epoch 8/20\n",
      "7/7 [==============================] - 0s 3ms/step - loss: 0.6301 - accuracy: 0.8404 - val_loss: 0.5494 - val_accuracy: 0.9022\n",
      "Epoch 9/20\n",
      "7/7 [==============================] - 0s 4ms/step - loss: 0.5767 - accuracy: 0.9108 - val_loss: 0.5010 - val_accuracy: 0.9457\n",
      "Epoch 10/20\n",
      "7/7 [==============================] - 0s 3ms/step - loss: 0.5276 - accuracy: 0.9296 - val_loss: 0.4586 - val_accuracy: 0.9457\n",
      "Epoch 11/20\n",
      "7/7 [==============================] - 0s 3ms/step - loss: 0.4853 - accuracy: 0.9296 - val_loss: 0.4203 - val_accuracy: 0.9565\n",
      "Epoch 12/20\n",
      "7/7 [==============================] - 0s 3ms/step - loss: 0.4474 - accuracy: 0.9437 - val_loss: 0.3869 - val_accuracy: 0.9674\n",
      "Epoch 13/20\n",
      "7/7 [==============================] - 0s 3ms/step - loss: 0.4130 - accuracy: 0.9484 - val_loss: 0.3587 - val_accuracy: 0.9674\n",
      "Epoch 14/20\n",
      "7/7 [==============================] - 0s 3ms/step - loss: 0.3828 - accuracy: 0.9484 - val_loss: 0.3325 - val_accuracy: 0.9674\n",
      "Epoch 15/20\n",
      "7/7 [==============================] - 0s 3ms/step - loss: 0.3545 - accuracy: 0.9484 - val_loss: 0.3092 - val_accuracy: 0.9674\n",
      "Epoch 16/20\n",
      "7/7 [==============================] - 0s 3ms/step - loss: 0.3299 - accuracy: 0.9484 - val_loss: 0.2880 - val_accuracy: 0.9674\n",
      "Epoch 17/20\n",
      "7/7 [==============================] - 0s 3ms/step - loss: 0.3078 - accuracy: 0.9484 - val_loss: 0.2694 - val_accuracy: 0.9674\n",
      "Epoch 18/20\n",
      "7/7 [==============================] - 0s 3ms/step - loss: 0.2875 - accuracy: 0.9484 - val_loss: 0.2527 - val_accuracy: 0.9674\n",
      "Epoch 19/20\n",
      "7/7 [==============================] - 0s 3ms/step - loss: 0.2701 - accuracy: 0.9484 - val_loss: 0.2380 - val_accuracy: 0.9674\n",
      "Epoch 20/20\n",
      "7/7 [==============================] - 0s 3ms/step - loss: 0.2552 - accuracy: 0.9484 - val_loss: 0.2247 - val_accuracy: 0.9674\n"
     ]
    },
    {
     "data": {
      "image/png": "[encoded data removed]",
      "text/plain": [
       "<Figure size 432x288 with 1 Axes>"
      ]
     },
     "metadata": {
      "needs_background": "light"
     },
     "output_type": "display_data"
    }
   ],
   "source": [
    "history = model.fit(X_train, y_train, epochs=20,\n",
    "          validation_data=(X_test, y_test),\n",
    "          verbose=1)\n",
    "history_df = pd.DataFrame(history.history)\n",
    "history_df.loc[:, ['loss', 'val_loss']].plot();"
   ]
  },
  {
   "cell_type": "code",
   "execution_count": 63,
   "metadata": {
    "colab": {
     "base_uri": "https://localhost:8080/"
    },
    "id": "losy5yFcloJw",
    "outputId": "7145ae39-5435-4beb-e892-ad3941920d29"
   },
   "outputs": [
    {
     "name": "stdout",
     "output_type": "stream",
     "text": [
      "7/7 [==============================] - 0s 785us/step - loss: 1.0063 - accuracy: 0.4460\n",
      "3/3 [==============================] - 0s 666us/step - loss: 0.9148 - accuracy: 0.5000\n",
      "The training loss = 1.006294, and the accuracy = 0.446009\n",
      "The testing loss = 0.914809, CNN Test Set Accuracy: 0.500000\n"
     ]
    }
   ],
   "source": [
    "training_loss, accuracy1 = model.evaluate(X_train, y_train)\n",
    "testing_loss, accuracy2 = model.evaluate(X_test, y_test)\n",
    "print(\"The training loss = {:2f}, and the accuracy = {:2f}\" .format(training_loss, accuracy1))\n",
    "print(\"The testing loss = {:2f}, CNN Test Set Accuracy: {:2f}\" .format(testing_loss, accuracy2))"
   ]
  },
  {
   "cell_type": "code",
   "execution_count": 64,
   "metadata": {
    "colab": {
     "base_uri": "https://localhost:8080/",
     "height": 316
    },
    "id": "Ur6EIpv-17w2",
    "outputId": "e8a7cbcc-9f4a-44d5-dfe2-6a8f72054ad0"
   },
   "outputs": [
    {
     "data": {
      "text/plain": [
       "Text(0.5, 1.0, 'CNN Confusion_matrix')"
      ]
     },
     "execution_count": 64,
     "metadata": {},
     "output_type": "execute_result"
    },
    {
     "data": {
      "image/png": "[encoded data removed]",
      "text/plain": [
       "<Figure size 432x288 with 2 Axes>"
      ]
     },
     "metadata": {
      "needs_background": "light"
     },
     "output_type": "display_data"
    }
   ],
   "source": [
    "from sklearn.metrics import confusion_matrix,classification_report\n",
    "from matplotlib.colors import ListedColormap\n",
    "import seaborn as sns\n",
    "y_pred = model.predict(X_test)\n",
    "y_pred = np.asarray(y_pred).argmax(axis=1)\n",
    "y_test= np.asarray(y_test).argmax(axis=1)\n",
    "#Create confusion matrix and normalizes it over predicted (columns)\n",
    "confusion = confusion_matrix(y_pred, y_test)\n",
    "sns.heatmap(confusion,annot=True,cmap=\"Blues\")\n",
    "plt.title('CNN Confusion_matrix')"
   ]
  },
  {
   "cell_type": "code",
   "execution_count": 65,
   "metadata": {
    "id": "7eXXUyi8ZKVj"
   },
   "outputs": [],
   "source": [
    "model.save('saber.h5')"
   ]
  },
  {
   "cell_type": "code",
   "execution_count": null,
   "metadata": {},
   "outputs": [],
   "source": []
  },
  {
   "cell_type": "code",
   "execution_count": null,
   "metadata": {},
   "outputs": [],
   "source": []
  }
 ],
 "metadata": {
  "accelerator": "GPU",
  "colab": {
   "provenance": []
  },
  "gpuClass": "standard",
  "kernelspec": {
   "display_name": "Python 3",
   "language": "python",
   "name": "python3"
  },
  "language_info": {
   "codemirror_mode": {
    "name": "ipython",
    "version": 3
   },
   "file_extension": ".py",
   "mimetype": "text/x-python",
   "name": "python",
   "nbconvert_exporter": "python",
   "pygments_lexer": "ipython3",
   "version": "3.8.8"
  }
 },
 "nbformat": 4,
 "nbformat_minor": 1
}
